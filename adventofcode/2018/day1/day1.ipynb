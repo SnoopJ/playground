{
 "cells": [
  {
   "cell_type": "markdown",
   "metadata": {},
   "source": [
    "## Day 1, Part 1\n",
    "**Problem:** given a list of numbers (`input_day1.txt`) that represent addition or subtraction to the current frequency, output the resulting final frequency, starting from 0."
   ]
  },
  {
   "cell_type": "code",
   "execution_count": 1,
   "metadata": {},
   "outputs": [
    {
     "name": "stdout",
     "output_type": "stream",
     "text": [
      "Frequency after one pass through the list: 547\n"
     ]
    }
   ],
   "source": [
    "using DelimitedFiles\n",
    "\n",
    "# read the data in without specifying the delimiter, but with an explicit type\n",
    "# I don't think there's anyway to specify the type as a keyword argument to\n",
    "# guarantee that we avoid positional headaches, but there are several signatures for \n",
    "# this function, one of which lets us rely on an implicit delimiter\n",
    "data = readdlm(\"input_day1.txt\", Int)\n",
    "\n",
    "# the answer to part 1 is just the sum of all the frequency shifts\n",
    "freqshift = sum(data)\n",
    "\n",
    "println(\"Frequency after one pass through the list: $freqshift\")"
   ]
  },
  {
   "cell_type": "markdown",
   "metadata": {},
   "source": [
    "# Day 1, Part 2\n",
    "**Problem:** Loop through the list, carrying the result from the previous pass through. Stop when a frequency is visited twice and output that frequency."
   ]
  },
  {
   "cell_type": "code",
   "execution_count": 2,
   "metadata": {},
   "outputs": [
    {
     "name": "stdout",
     "output_type": "stream",
     "text": [
      "Done looping, 132417 elements considered (number of passes = 139.24)\n",
      "Calibration frequency (first repeated value): 76414\n"
     ]
    }
   ],
   "source": [
    "using Base.Iterators  # makes cycle() available without a prefix\n",
    "using Printf\n",
    "using Formatting\n",
    "\n",
    "function freqwalk(data)\n",
    "    sum = 0\n",
    "    seen = Set()  # Sets have O(1) membership testing\n",
    "    for (i, d) in enumerate(cycle(data))\n",
    "        sum += d\n",
    "        if sum in seen\n",
    "            numpasses = i/length(data)\n",
    "            # this appears to be a very native way to do this with Julia's Printf library, but...it's so verbose!\n",
    "            # println(\"\"\"Done looping, $i elements considered (number of passes = $(@sprintf(\"%.2f\", numpasses)))\"\"\")\n",
    "            \n",
    "            # So instead, let's use printfmt() from Formatting to do the same thing a little more concisely\n",
    "            \n",
    "            printfmtln(\"\"\"Done looping, $i elements considered (number of passes = {:.2f})\"\"\", numpasses)\n",
    "            break\n",
    "        else\n",
    "            push!(seen, sum)  # Julia convention is ! with all functions that mutate\n",
    "        end\n",
    "    end\n",
    "    return sum, seen\n",
    "end\n",
    "\n",
    "finalfreq, seen = freqwalk(data)\n",
    "\n",
    "println(\"Calibration frequency (first repeated value): $finalfreq\")"
   ]
  }
 ],
 "metadata": {
  "kernelspec": {
   "display_name": "Julia 1.0.0",
   "language": "julia",
   "name": "julia-1.0"
  },
  "language_info": {
   "file_extension": ".jl",
   "mimetype": "application/julia",
   "name": "julia",
   "version": "1.0.0"
  }
 },
 "nbformat": 4,
 "nbformat_minor": 2
}
