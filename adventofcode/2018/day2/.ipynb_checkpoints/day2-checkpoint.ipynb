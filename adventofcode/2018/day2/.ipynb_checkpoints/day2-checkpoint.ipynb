{
 "cells": [
  {
   "cell_type": "markdown",
   "metadata": {},
   "source": [
    "## Day 2, part 1\n",
    "**Problem:** given a list of strings (`input_day2.txt`), count the number of strings which contain 2 of any letter, and the number which contain 3 of any letter. Output the product of these two numbers (a crude checksum). Because a different letter may be repeated, a given string might be a member of both sets, but should only count once for either of them."
   ]
  },
  {
   "cell_type": "code",
   "execution_count": 3,
   "metadata": {},
   "outputs": [
    {
     "name": "stdout",
     "output_type": "stream",
     "text": [
      "Checksum value: 9633\n"
     ]
    }
   ],
   "source": [
    "using DelimitedFiles\n",
    "\n",
    "data = readdlm(\"input_day2.txt\", String)\n",
    "\n",
    "function countmap(s::String)\n",
    "    # Count the number of occurrences of each character in this string\n",
    "    counts = Dict()\n",
    "    for c in s\n",
    "        if haskey(counts, c)\n",
    "            counts[c] += 1\n",
    "        else\n",
    "            counts[c] = 1\n",
    "        end\n",
    "    end\n",
    "    return counts\n",
    "end\n",
    "    \n",
    "twos = Set()\n",
    "threes = Set()\n",
    "    \n",
    "for s in data\n",
    "    counts = countmap(s)\n",
    "    if any(v->v == 2, values(counts))\n",
    "        push!(twos, s)\n",
    "    end\n",
    "    if any(v->v == 3, values(counts))\n",
    "        push!(threes, s)\n",
    "    end\n",
    "end\n",
    "    \n",
    "checksum = length(twos)*length(threes)\n",
    "println(\"Checksum value: $checksum\")"
   ]
  },
  {
   "cell_type": "markdown",
   "metadata": {},
   "source": [
    "## Day 2, part 2\n",
    "**Problem:** The desired pair of IDs in the string input differ from each other by exactly one character substitution **at the same position**. Output the characters they have _in common_."
   ]
  },
  {
   "cell_type": "code",
   "execution_count": 26,
   "metadata": {},
   "outputs": [
    {
     "name": "stdout",
     "output_type": "stream",
     "text": [
      "lujnogabetpmsydyfcovzixaw\n",
      "lujnogabetpmsydyfcovzixaw\n"
     ]
    }
   ],
   "source": [
    "# this solution is O(N**2), trying every possible combination of strings. \n",
    "# This is fine in this case since N=250 is small, but will scale poorly \n",
    "# with larger datasets! Note that I don't actually use the assumption of\n",
    "# a single solution here, so the unique solution will be output twice.\n",
    "\n",
    "res = []\n",
    "for sa in data\n",
    "    for sb in data\n",
    "        if sa == sb\n",
    "            continue\n",
    "        end\n",
    "        diffidx = map((a,b)->a!=b, sa, sb)  # boolean indexing of which characters are different\n",
    "        levendiff = sum(diffidx)\n",
    "        if levendiff == 1\n",
    "           # oh! Julia has comprehensions! This is a lot more elegant than what I almost wrote,\n",
    "           # which would have used diffidx to clumsily filter one of the strings.\n",
    "           println(join([c for (c,d) in zip(sa, sb) if c==d]))  \n",
    "        end\n",
    "    end\n",
    "end"
   ]
  }
 ],
 "metadata": {
  "kernelspec": {
   "display_name": "Julia 1.0.0",
   "language": "julia",
   "name": "julia-1.0"
  },
  "language_info": {
   "file_extension": ".jl",
   "mimetype": "application/julia",
   "name": "julia",
   "version": "1.0.0"
  }
 },
 "nbformat": 4,
 "nbformat_minor": 2
}
